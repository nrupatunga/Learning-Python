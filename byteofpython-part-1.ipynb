{
 "cells": [
  {
   "cell_type": "code",
   "execution_count": 1,
   "metadata": {
    "collapsed": true
   },
   "outputs": [],
   "source": [
    "# BYTE OF PYTHON "
   ]
  },
  {
   "cell_type": "code",
   "execution_count": 1,
   "metadata": {
    "collapsed": false
   },
   "outputs": [
    {
     "name": "stdout",
     "output_type": "stream",
     "text": [
      "Nrupatunga was 28 when he wrote this tutorial\n",
      "why Nrupatunga is playing with ipython notebook\n"
     ]
    }
   ],
   "source": [
    "# formatting while printing\n",
    "age = 28\n",
    "name = 'Nrupatunga'\n",
    "print '{0} was {1} when he wrote this tutorial'.format(name, age)\n",
    "print 'why {0} is playing with ipython notebook'.format(name)"
   ]
  },
  {
   "cell_type": "code",
   "execution_count": 6,
   "metadata": {
    "collapsed": false
   },
   "outputs": [
    {
     "name": "stdout",
     "output_type": "stream",
     "text": [
      "Nrupatunga was 20 when he wrote this tutorial\n"
     ]
    }
   ],
   "source": [
    "# not needed to put the number inside {}, if you write the order of the argument correctly inside format()\n",
    "print '{} was {} when he wrote this tutorial'.format(name, age)"
   ]
  },
  {
   "cell_type": "code",
   "execution_count": 16,
   "metadata": {
    "collapsed": false
   },
   "outputs": [
    {
     "name": "stdout",
     "output_type": "stream",
     "text": [
      "0.333 and 0.6667\n"
     ]
    }
   ],
   "source": [
    "#decimal precision of 3 \n",
    "print '{0:0.3f} and {1:0.4f}'.format(1.0/3, 2.0/3)"
   ]
  },
  {
   "cell_type": "code",
   "execution_count": 4,
   "metadata": {
    "collapsed": false
   },
   "outputs": [
    {
     "name": "stdout",
     "output_type": "stream",
     "text": [
      "**Hello**\n"
     ]
    }
   ],
   "source": [
    "print '{0:*^{1}}'.format('Hello', 9)"
   ]
  },
  {
   "cell_type": "code",
   "execution_count": 27,
   "metadata": {
    "collapsed": false
   },
   "outputs": [
    {
     "name": "stdout",
     "output_type": "stream",
     "text": [
      "Nrupatunga is employee of samsung\n"
     ]
    }
   ],
   "source": [
    "print '{name} is employee of {company}'.format(name='Nrupatunga', company='samsung')"
   ]
  },
  {
   "cell_type": "code",
   "execution_count": 28,
   "metadata": {
    "collapsed": false
   },
   "outputs": [
    {
     "name": "stdout",
     "output_type": "stream",
     "text": [
      "10\n"
     ]
    }
   ],
   "source": [
    "#print always ends with invisible new line character '\\n'\n",
    "a = 10\n",
    "print a"
   ]
  },
  {
   "cell_type": "code",
   "execution_count": 29,
   "metadata": {
    "collapsed": false
   },
   "outputs": [
    {
     "name": "stdout",
     "output_type": "stream",
     "text": [
      "5 10\n"
     ]
    }
   ],
   "source": [
    "# to prevent the printing of new line character you can add comma (',') after each print statement as show below\n",
    "a = 5\n",
    "b = 10\n",
    "print a, \n",
    "print b, "
   ]
  },
  {
   "cell_type": "code",
   "execution_count": 30,
   "metadata": {
    "collapsed": false
   },
   "outputs": [
    {
     "data": {
      "text/plain": [
       "'This is the first sentence. This is the second sentence.'"
      ]
     },
     "execution_count": 30,
     "metadata": {},
     "output_type": "execute_result"
    }
   ],
   "source": [
    "# Here \\ indicates that dont print any new line character, the sentence has the continuation\n",
    "\"This is the first sentence. \\\n",
    "This is the second sentence.\"\n"
   ]
  },
  {
   "cell_type": "code",
   "execution_count": 5,
   "metadata": {
    "collapsed": false
   },
   "outputs": [
    {
     "data": {
      "text/plain": [
       "'Newlines are indicated by \\\\n'"
      ]
     },
     "execution_count": 5,
     "metadata": {},
     "output_type": "execute_result"
    }
   ],
   "source": [
    "'''If you need to specify some strings where no special processing such as escape \n",
    "sequences are handled, then what you need is to specify a raw string by prefixing r or\n",
    "R to the string.'''\n",
    "\n",
    "r\"Newlines are indicated by \\n\"\n"
   ]
  },
  {
   "cell_type": "code",
   "execution_count": 41,
   "metadata": {
    "collapsed": false
   },
   "outputs": [
    {
     "data": {
      "text/plain": [
       "5"
      ]
     },
     "execution_count": 41,
     "metadata": {},
     "output_type": "execute_result"
    }
   ],
   "source": [
    "#object - Python refers to anything used in a program as object.\n",
    "# Operator and expressions\n",
    "# + (plus)\n",
    "2 + 3\n"
   ]
  },
  {
   "cell_type": "code",
   "execution_count": 42,
   "metadata": {
    "collapsed": false
   },
   "outputs": [
    {
     "data": {
      "text/plain": [
       "-1"
      ]
     },
     "execution_count": 42,
     "metadata": {},
     "output_type": "execute_result"
    }
   ],
   "source": [
    "# - (minus)\n",
    "2 - 3"
   ]
  },
  {
   "cell_type": "code",
   "execution_count": 43,
   "metadata": {
    "collapsed": false
   },
   "outputs": [
    {
     "data": {
      "text/plain": [
       "'lalala'"
      ]
     },
     "execution_count": 43,
     "metadata": {},
     "output_type": "execute_result"
    }
   ],
   "source": [
    "# *(multiplication)\n",
    "'la' * 3"
   ]
  },
  {
   "cell_type": "code",
   "execution_count": 44,
   "metadata": {
    "collapsed": false
   },
   "outputs": [
    {
     "data": {
      "text/plain": [
       "1024"
      ]
     },
     "execution_count": 44,
     "metadata": {},
     "output_type": "execute_result"
    }
   ],
   "source": [
    "# ** (power)\n",
    "4**5"
   ]
  },
  {
   "cell_type": "code",
   "execution_count": 45,
   "metadata": {
    "collapsed": false
   },
   "outputs": [
    {
     "data": {
      "text/plain": [
       "3"
      ]
     },
     "execution_count": 45,
     "metadata": {},
     "output_type": "execute_result"
    }
   ],
   "source": [
    "# / (division)\n",
    "# observe the result here. it gives the output as integer.\n",
    "13/4"
   ]
  },
  {
   "cell_type": "code",
   "execution_count": 46,
   "metadata": {
    "collapsed": false
   },
   "outputs": [
    {
     "data": {
      "text/plain": [
       "3.25"
      ]
     },
     "execution_count": 46,
     "metadata": {},
     "output_type": "execute_result"
    }
   ],
   "source": [
    "# / (division)\n",
    "13.0/4"
   ]
  },
  {
   "cell_type": "code",
   "execution_count": 7,
   "metadata": {
    "collapsed": false
   },
   "outputs": [
    {
     "name": "stdout",
     "output_type": "stream",
     "text": [
      "10\n",
      "11\n",
      "This is a multiline string\n",
      "this is the second line \n"
     ]
    }
   ],
   "source": [
    "#python refers anything you write in a program as object\n",
    "i = 10\n",
    "print i\n",
    "j = i + 1\n",
    "print j\n",
    "s = '''This is a multiline string\n",
    "this is the second line '''\n",
    "print s"
   ]
  },
  {
   "cell_type": "code",
   "execution_count": 1,
   "metadata": {
    "collapsed": false,
    "scrolled": true
   },
   "outputs": [
    {
     "ename": "IndentationError",
     "evalue": "unexpected indent (<ipython-input-1-50b901bbb0e3>, line 8)",
     "output_type": "error",
     "traceback": [
      "\u001b[1;36m  File \u001b[1;32m\"<ipython-input-1-50b901bbb0e3>\"\u001b[1;36m, line \u001b[1;32m8\u001b[0m\n\u001b[1;33m    print 'value is ', i\u001b[0m\n\u001b[1;37m    ^\u001b[0m\n\u001b[1;31mIndentationError\u001b[0m\u001b[1;31m:\u001b[0m unexpected indent\n"
     ]
    }
   ],
   "source": [
    "#Intendation\n",
    "#whitespaces are important in python, Actually, whitespace at the beginning of the line is important\n",
    "#This is called intendation\n",
    "\n",
    "#Statements which go with same indentation. Such statements are called block\n",
    "i = 5\n",
    "#Error below note the space in the beginning of the statement\n",
    " print 'value is ', i\n",
    "print 'I repeat, the value is ', i"
   ]
  },
  {
   "cell_type": "code",
   "execution_count": 1,
   "metadata": {
    "collapsed": true
   },
   "outputs": [],
   "source": [
    "#I have skipped through few operators as I didn't find them so interesting, its like in every other language. So if you would like\n",
    "# through them look at the book.. Hope thats ok!!"
   ]
  },
  {
   "cell_type": "code",
   "execution_count": 2,
   "metadata": {
    "collapsed": false
   },
   "outputs": [
    {
     "name": "stdout",
     "output_type": "stream",
     "text": [
      "Enter an integer:24\n",
      "No it is little lower than that\n",
      "Done\n"
     ]
    }
   ],
   "source": [
    "#Now we shall move to control flow statements\n",
    "#The if statement\n",
    "\n",
    "number = 23\n",
    "#concentrate on this part, try to remember how input is taken from the user, raw_input, returns a string whatever you entered \n",
    "#on the screen\n",
    "guess = int(raw_input('Enter an integer:'))\n",
    "\n",
    "#Take a note of the colon in the after if, elif and else if you are new to python\n",
    "if guess == number:\n",
    "    #Note the intendation in below two statements, \n",
    "    print \"Congratulations you guessed it\"\n",
    "    print '(But you do not win any prize!)'\n",
    "#Note the elif clause here, meaning else if\n",
    "elif guess < number:\n",
    "    print 'No, it is a little higher than that'\n",
    "else:\n",
    "    print \"No it is little lower than that\"\n",
    "    \n",
    "print 'Done'\n",
    "\n",
    "    \n",
    "        "
   ]
  },
  {
   "cell_type": "code",
   "execution_count": 4,
   "metadata": {
    "collapsed": false
   },
   "outputs": [
    {
     "name": "stdout",
     "output_type": "stream",
     "text": [
      "Enter an integer: 25\n",
      "No, it is little lower than that\n",
      "Enter an integer: 22\n",
      "No, it is little higher than that\n",
      "Enter an integer: 23\n",
      "Congratulations you guessed it\n",
      "Done\n"
     ]
    }
   ],
   "source": [
    "#while statement\n",
    "number = 23\n",
    "running = True\n",
    "\n",
    "while running:\n",
    "    guess = int(raw_input(\"Enter an integer: \"))    \n",
    "    if guess == number:\n",
    "        print \"Congratulations you guessed it\"\n",
    "        running = False\n",
    "    elif guess < number:\n",
    "        print \"No, it is little higher than that\"\n",
    "    else:\n",
    "        print \"No, it is little lower than that\"\n",
    "        \n",
    "print \"Done\""
   ]
  },
  {
   "cell_type": "code",
   "execution_count": 4,
   "metadata": {
    "collapsed": false
   },
   "outputs": [
    {
     "name": "stdout",
     "output_type": "stream",
     "text": [
      "1\n",
      "3\n",
      "The for loop is over\n"
     ]
    }
   ],
   "source": [
    "#for loop\n",
    "#note the first and second argument are the lower and upper bound, and third argument is the step\n",
    "# note the way for loop is written, \"for .. in\"\n",
    "for i in range(1, 5, 2):\n",
    "    print i\n",
    "else:\n",
    "    print 'The for loop is over'"
   ]
  },
  {
   "cell_type": "code",
   "execution_count": 5,
   "metadata": {
    "collapsed": false
   },
   "outputs": [
    {
     "name": "stdout",
     "output_type": "stream",
     "text": [
      "Enter something: close\n",
      "Length of the string is  5\n",
      "Enter something: hello\n",
      "Length of the string is  5\n",
      "Enter something: quit\n"
     ]
    }
   ],
   "source": [
    "#The break statement\n",
    "#Observe how else statement is use in conjunction with while statement, which is different from other languages like C, C++\n",
    "while True:\n",
    "    s = raw_input('Enter something: ')\n",
    "    if s == 'quit':\n",
    "        break\n",
    "    print 'Length of the string is ', len(s)\n",
    "else:\n",
    "    print 'Done'\n",
    "    \n",
    "# An important note is that, if you break out of for or while loop, any corresponding loop 'else' block is not executed"
   ]
  },
  {
   "cell_type": "code",
   "execution_count": 1,
   "metadata": {
    "collapsed": false
   },
   "outputs": [
    {
     "name": "stdout",
     "output_type": "stream",
     "text": [
      "Enter something : Go\n",
      "Too small, Enter something else\n",
      "Enter something : Python is a powerful language\n",
      "Input is of sufficient length\n",
      "Enter something : quit\n"
     ]
    }
   ],
   "source": [
    "#The continue statement\n",
    "#The continue statement is used to tell python to skip the rest of the statements in the current loop block and to continue to\n",
    "#the next iteration of the loop\n",
    "while True:\n",
    "    s = raw_input('Enter something : ')\n",
    "    if s == 'quit':\n",
    "        break\n",
    "    if len(s) < 3:\n",
    "        print 'Too small, Enter something else'\n",
    "        continue\n",
    "    print 'Input is of sufficient length'"
   ]
  },
  {
   "cell_type": "code",
   "execution_count": 27,
   "metadata": {
    "collapsed": false
   },
   "outputs": [
    {
     "name": "stdout",
     "output_type": "stream",
     "text": [
      "hello, world\n",
      "hello, world\n"
     ]
    }
   ],
   "source": [
    "#Functions - How to create a function\n",
    "#Functions are defined using the def keyword. After this keywork comes an identifier name for the function, followed by a pair \n",
    "#parentheses which may enclose some names of variables and by final colon ends the line. Next follows the block of statements\n",
    "#that are part of this function\n",
    "\n",
    "def say_hello():\n",
    "    print 'hello, world'\n",
    "    \n",
    "say_hello()\n",
    "say_hello()"
   ]
  },
  {
   "cell_type": "code",
   "execution_count": 4,
   "metadata": {
    "collapsed": false
   },
   "outputs": [
    {
     "name": "stdout",
     "output_type": "stream",
     "text": [
      "Enter an integer a: 45\n",
      "Enter an integer b: 23\n",
      "45 is maximum\n",
      "3 is maximum\n",
      "4 is equal to 4\n",
      "5 is maximum\n"
     ]
    }
   ],
   "source": [
    "#Function parameters\n",
    "def print_max(a, b):\n",
    "    if a > b:\n",
    "        print a, 'is maximum'\n",
    "    elif a==b:\n",
    "        print a, 'is equal to', b\n",
    "    else:\n",
    "        print b, 'is maximum'\n",
    "        \n",
    "\n",
    "a = int(raw_input('Enter an integer a: '))\n",
    "b = int(raw_input('Enter an integer b: '))\n",
    "        \n",
    "print_max(a, b)\n",
    "print_max(3, 1)\n",
    "print_max(4, 4)\n",
    "print_max(1, 5)"
   ]
  },
  {
   "cell_type": "code",
   "execution_count": 8,
   "metadata": {
    "collapsed": false
   },
   "outputs": [
    {
     "name": "stdout",
     "output_type": "stream",
     "text": [
      "x is 50\n",
      "x is 23\n",
      "x is still 50\n"
     ]
    }
   ],
   "source": [
    "# Local variables\n",
    "x = 50\n",
    "def func(x):\n",
    "    print 'x is', x\n",
    "    x = 23\n",
    "    print 'x is', x\n",
    "    \n",
    "func(x)\n",
    "print 'x is still', x"
   ]
  },
  {
   "cell_type": "code",
   "execution_count": 13,
   "metadata": {
    "collapsed": false
   },
   "outputs": [
    {
     "name": "stdout",
     "output_type": "stream",
     "text": [
      "x is 50\n",
      "x is 23\n",
      "x is now 23\n"
     ]
    }
   ],
   "source": [
    "#global variables\n",
    "x = 50\n",
    "\n",
    "def func():\n",
    "    global x\n",
    "    print 'x is', x\n",
    "    x = 23\n",
    "    print 'x is', x\n",
    "    \n",
    "func()\n",
    "print 'x is now', x"
   ]
  },
  {
   "cell_type": "code",
   "execution_count": 14,
   "metadata": {
    "collapsed": false
   },
   "outputs": [
    {
     "name": "stdout",
     "output_type": "stream",
     "text": [
      "Hello\n",
      "PythonPython\n"
     ]
    }
   ],
   "source": [
    "#Default argument\n",
    "def say(message, times=1):\n",
    "    print message*times\n",
    "say(\"Hello\")\n",
    "say('Python', 2)"
   ]
  },
  {
   "cell_type": "code",
   "execution_count": 16,
   "metadata": {
    "collapsed": false
   },
   "outputs": [
    {
     "name": "stdout",
     "output_type": "stream",
     "text": [
      "a is 3 and b is 1 and c is 10\n",
      "a is 5 and b is 5 and c is 11\n",
      "a is 4 and b is 12 and c is 10\n"
     ]
    }
   ],
   "source": [
    "#passing values for only few arguments\n",
    "def func(a, b=5, c=10):\n",
    "    print 'a is', a, 'and b is', b, 'and c is', c\n",
    "\n",
    "func(3,1)\n",
    "func(5, c=11)\n",
    "func(4, b=12)"
   ]
  },
  {
   "cell_type": "code",
   "execution_count": 24,
   "metadata": {
    "collapsed": false
   },
   "outputs": [
    {
     "name": "stdout",
     "output_type": "stream",
     "text": [
      "eggs 3\n",
      "vegetables 50\n",
      "fruits 100\n",
      "166\n"
     ]
    }
   ],
   "source": [
    "#variable argument\n",
    "#This is interesting\n",
    "#When we declare a starred parameter such as *numbers, then all the positional arguments from that point till the end are \n",
    "#collected as a tuple called 'numbers'\n",
    "#when we declare a double starred parameter such as **keywords, then all the keywords arguments from that point till the end are\n",
    "#collected as a dictionary called 'keywords'\n",
    "\n",
    "def total(initial=5, *numbers, **keywords):\n",
    "    count = initial\n",
    "    for number in numbers:\n",
    "        count = count + number\n",
    "    for key in keywords:\n",
    "        print key, keywords[key]\n",
    "        count = count + keywords[key]\n",
    "    return count\n",
    "\n",
    "print total(10, 1, 2, eggs=3, vegetables=50, fruits=100)"
   ]
  },
  {
   "cell_type": "code",
   "execution_count": 31,
   "metadata": {
    "collapsed": false
   },
   "outputs": [
    {
     "name": "stdout",
     "output_type": "stream",
     "text": [
      "4\n",
      "None\n"
     ]
    }
   ],
   "source": [
    "#return statement\n",
    "def maximum(x, y):\n",
    "    if x>y:\n",
    "        return x\n",
    "    elif x==y:\n",
    "        return 'The numbers are equal'\n",
    "    else:\n",
    "        return y\n",
    "\n",
    "print maximum(3, 4)\n",
    "\n",
    "#return statement without a value is equivalent to return None, None is a special type in Python that represents nothingness. For\n",
    "#example, it is used to inidicate that a variable has no value if it has a value None\n",
    "\n",
    "#Every function implicitly has return None statement at the end unless you have written your own return statement. \n",
    "# you can see this by running print some_function() where the function some_function does not use the return\n",
    "\n",
    "def some_function():\n",
    "    pass #The pass statement is used in python to indicate an empty block of statements\n",
    "\n",
    "print some_function()"
   ]
  },
  {
   "cell_type": "code",
   "execution_count": 34,
   "metadata": {
    "collapsed": false
   },
   "outputs": [
    {
     "name": "stdout",
     "output_type": "stream",
     "text": [
      "5 is maximum\n",
      "Prints the maximum of two numbers.\n",
      "Help on function print_max in module __main__:\n",
      "\n",
      "print_max(x, y)\n",
      "    Prints the maximum of two numbers.\n",
      "\n"
     ]
    }
   ],
   "source": [
    "#DOC STRINGS\n",
    "\n",
    "#Python has a nifty feature called documentation strings, usually referred to by its shorted name docstrings. \n",
    "#Doc strings are important tool that you should make use of since it helps to document the program better and make it easier to \n",
    "#understand\n",
    "\n",
    "def print_max(x, y):\n",
    "    '''Prints the maximum of two numbers.'''\n",
    "    if x>y:\n",
    "        print x, 'is maximum'\n",
    "    elif x==y:\n",
    "        print x, 'is equal to', y\n",
    "    else:\n",
    "        print y, 'is maximum'\n",
    "\n",
    "print_max(4, 5)\n",
    "print print_max.__doc__\n",
    "help(print_max)"
   ]
  },
  {
   "cell_type": "code",
   "execution_count": 2,
   "metadata": {
    "collapsed": false
   },
   "outputs": [
    {
     "name": "stdout",
     "output_type": "stream",
     "text": [
      "<type 'list'>\n",
      "C:\\Users\\nrupatunga.1\\AppData\\Local\\Continuum\\Anaconda2\\lib\\site-packages\\ipykernel\\__main__.py\n",
      "-f\n",
      "C:\\Users\\nrupatunga.1\\AppData\\Roaming\\jupyter\\runtime\\kernel-1e4e2717-3a4d-4e27-8856-9556e29af25b.json\n",
      "['', 'C:\\\\Users\\\\nrupatunga.1\\\\AppData\\\\Local\\\\Continuum\\\\Anaconda2\\\\python27.zip', 'C:\\\\Users\\\\nrupatunga.1\\\\AppData\\\\Local\\\\Continuum\\\\Anaconda2\\\\DLLs', 'C:\\\\Users\\\\nrupatunga.1\\\\AppData\\\\Local\\\\Continuum\\\\Anaconda2\\\\lib', 'C:\\\\Users\\\\nrupatunga.1\\\\AppData\\\\Local\\\\Continuum\\\\Anaconda2\\\\lib\\\\plat-win', 'C:\\\\Users\\\\nrupatunga.1\\\\AppData\\\\Local\\\\Continuum\\\\Anaconda2\\\\lib\\\\lib-tk', 'C:\\\\Users\\\\nrupatunga.1\\\\AppData\\\\Local\\\\Continuum\\\\Anaconda2', 'c:\\\\users\\\\nrupatunga.1\\\\appdata\\\\local\\\\continuum\\\\anaconda2\\\\lib\\\\site-packages\\\\sphinx-1.3.1-py2.7.egg', 'c:\\\\users\\\\nrupatunga.1\\\\appdata\\\\local\\\\continuum\\\\anaconda2\\\\lib\\\\site-packages\\\\setuptools-19.6.2-py2.7.egg', 'C:\\\\Users\\\\nrupatunga.1\\\\AppData\\\\Local\\\\Continuum\\\\Anaconda2\\\\lib\\\\site-packages', 'C:\\\\Users\\\\nrupatunga.1\\\\AppData\\\\Local\\\\Continuum\\\\Anaconda2\\\\lib\\\\site-packages\\\\PIL', 'C:\\\\Users\\\\nrupatunga.1\\\\AppData\\\\Local\\\\Continuum\\\\Anaconda2\\\\lib\\\\site-packages\\\\cryptography-1.0.2-py2.7-win-amd64.egg', 'C:\\\\Users\\\\nrupatunga.1\\\\AppData\\\\Local\\\\Continuum\\\\Anaconda2\\\\lib\\\\site-packages\\\\win32', 'C:\\\\Users\\\\nrupatunga.1\\\\AppData\\\\Local\\\\Continuum\\\\Anaconda2\\\\lib\\\\site-packages\\\\win32\\\\lib', 'C:\\\\Users\\\\nrupatunga.1\\\\AppData\\\\Local\\\\Continuum\\\\Anaconda2\\\\lib\\\\site-packages\\\\Pythonwin', 'C:\\\\Users\\\\nrupatunga.1\\\\AppData\\\\Local\\\\Continuum\\\\Anaconda2\\\\lib\\\\site-packages\\\\IPython\\\\extensions', 'C:\\\\Users\\\\nrupatunga.1\\\\.ipython']\n"
     ]
    }
   ],
   "source": [
    "#Python modules\n",
    "import sys\n",
    "for i in sys.argv:\n",
    "    print i\n",
    "print sys.path # note current directory printed as '' is also in sys.path"
   ]
  },
  {
   "cell_type": "code",
   "execution_count": 39,
   "metadata": {
    "collapsed": false
   },
   "outputs": [
    {
     "name": "stdout",
     "output_type": "stream",
     "text": [
      "Square root of 16 is 4.0\n"
     ]
    }
   ],
   "source": [
    "#The from ... import statement\n",
    "from math import sqrt as sq\n",
    "print 'Square root of 16 is', sq(16)"
   ]
  },
  {
   "cell_type": "code",
   "execution_count": 42,
   "metadata": {
    "collapsed": false
   },
   "outputs": [
    {
     "data": {
      "text/plain": [
       "['__displayhook__',\n",
       " '__doc__',\n",
       " '__excepthook__',\n",
       " '__name__',\n",
       " '__package__',\n",
       " '__stderr__',\n",
       " '__stdin__',\n",
       " '__stdout__',\n",
       " '_clear_type_cache',\n",
       " '_current_frames',\n",
       " '_getframe',\n",
       " '_mercurial',\n",
       " 'api_version',\n",
       " 'argv',\n",
       " 'builtin_module_names',\n",
       " 'byteorder',\n",
       " 'call_tracing',\n",
       " 'callstats',\n",
       " 'copyright',\n",
       " 'displayhook',\n",
       " 'dllhandle',\n",
       " 'dont_write_bytecode',\n",
       " 'exc_clear',\n",
       " 'exc_info',\n",
       " 'exc_type',\n",
       " 'excepthook',\n",
       " 'exec_prefix',\n",
       " 'executable',\n",
       " 'exit',\n",
       " 'exitfunc',\n",
       " 'flags',\n",
       " 'float_info',\n",
       " 'float_repr_style',\n",
       " 'getcheckinterval',\n",
       " 'getdefaultencoding',\n",
       " 'getfilesystemencoding',\n",
       " 'getprofile',\n",
       " 'getrecursionlimit',\n",
       " 'getrefcount',\n",
       " 'getsizeof',\n",
       " 'gettrace',\n",
       " 'getwindowsversion',\n",
       " 'hexversion',\n",
       " 'last_traceback',\n",
       " 'last_type',\n",
       " 'last_value',\n",
       " 'long_info',\n",
       " 'maxint',\n",
       " 'maxsize',\n",
       " 'maxunicode',\n",
       " 'meta_path',\n",
       " 'modules',\n",
       " 'path',\n",
       " 'path_hooks',\n",
       " 'path_importer_cache',\n",
       " 'platform',\n",
       " 'prefix',\n",
       " 'ps1',\n",
       " 'ps2',\n",
       " 'ps3',\n",
       " 'py3kwarning',\n",
       " 'setcheckinterval',\n",
       " 'setprofile',\n",
       " 'setrecursionlimit',\n",
       " 'settrace',\n",
       " 'stderr',\n",
       " 'stdin',\n",
       " 'stdout',\n",
       " 'subversion',\n",
       " 'version',\n",
       " 'version_info',\n",
       " 'warnoptions',\n",
       " 'winver']"
      ]
     },
     "execution_count": 42,
     "metadata": {},
     "output_type": "execute_result"
    }
   ],
   "source": [
    "#The dir function\n",
    "#You can use the built-in 'dir' function to list the identifier that an object defines. For example, for a module, \n",
    "# the identifiers include the functions, classes and variables defined in that module. \n",
    "import sys\n",
    "dir(sys)"
   ]
  },
  {
   "cell_type": "code",
   "execution_count": 45,
   "metadata": {
    "collapsed": false
   },
   "outputs": [
    {
     "data": {
      "text/plain": [
       "['In',\n",
       " 'Out',\n",
       " '_',\n",
       " '_40',\n",
       " '_41',\n",
       " '_42',\n",
       " '_43',\n",
       " '_44',\n",
       " '__',\n",
       " '___',\n",
       " '__builtin__',\n",
       " '__builtins__',\n",
       " '__doc__',\n",
       " '__name__',\n",
       " '__package__',\n",
       " '_dh',\n",
       " '_i',\n",
       " '_i1',\n",
       " '_i10',\n",
       " '_i11',\n",
       " '_i12',\n",
       " '_i13',\n",
       " '_i14',\n",
       " '_i15',\n",
       " '_i16',\n",
       " '_i17',\n",
       " '_i18',\n",
       " '_i19',\n",
       " '_i2',\n",
       " '_i20',\n",
       " '_i21',\n",
       " '_i22',\n",
       " '_i23',\n",
       " '_i24',\n",
       " '_i25',\n",
       " '_i26',\n",
       " '_i27',\n",
       " '_i28',\n",
       " '_i29',\n",
       " '_i3',\n",
       " '_i30',\n",
       " '_i31',\n",
       " '_i32',\n",
       " '_i33',\n",
       " '_i34',\n",
       " '_i35',\n",
       " '_i36',\n",
       " '_i37',\n",
       " '_i38',\n",
       " '_i39',\n",
       " '_i4',\n",
       " '_i40',\n",
       " '_i41',\n",
       " '_i42',\n",
       " '_i43',\n",
       " '_i44',\n",
       " '_i45',\n",
       " '_i5',\n",
       " '_i6',\n",
       " '_i7',\n",
       " '_i8',\n",
       " '_i9',\n",
       " '_ih',\n",
       " '_ii',\n",
       " '_iii',\n",
       " '_oh',\n",
       " '_sh',\n",
       " 'a',\n",
       " 'b',\n",
       " 'exit',\n",
       " 'func',\n",
       " 'get_ipython',\n",
       " 'i',\n",
       " 'maximum',\n",
       " 'print_max',\n",
       " 'quit',\n",
       " 's',\n",
       " 'say',\n",
       " 'say_hello',\n",
       " 'some_function',\n",
       " 'sq',\n",
       " 'sys',\n",
       " 'total',\n",
       " 'x']"
      ]
     },
     "execution_count": 45,
     "metadata": {},
     "output_type": "execute_result"
    }
   ],
   "source": [
    "a = 5\n",
    "dir() #see 'a' listed in the output\n"
   ]
  },
  {
   "cell_type": "code",
   "execution_count": 46,
   "metadata": {
    "collapsed": false
   },
   "outputs": [
    {
     "data": {
      "text/plain": [
       "['In',\n",
       " 'Out',\n",
       " '_',\n",
       " '_40',\n",
       " '_41',\n",
       " '_42',\n",
       " '_43',\n",
       " '_44',\n",
       " '_45',\n",
       " '__',\n",
       " '___',\n",
       " '__builtin__',\n",
       " '__builtins__',\n",
       " '__doc__',\n",
       " '__name__',\n",
       " '__package__',\n",
       " '_dh',\n",
       " '_i',\n",
       " '_i1',\n",
       " '_i10',\n",
       " '_i11',\n",
       " '_i12',\n",
       " '_i13',\n",
       " '_i14',\n",
       " '_i15',\n",
       " '_i16',\n",
       " '_i17',\n",
       " '_i18',\n",
       " '_i19',\n",
       " '_i2',\n",
       " '_i20',\n",
       " '_i21',\n",
       " '_i22',\n",
       " '_i23',\n",
       " '_i24',\n",
       " '_i25',\n",
       " '_i26',\n",
       " '_i27',\n",
       " '_i28',\n",
       " '_i29',\n",
       " '_i3',\n",
       " '_i30',\n",
       " '_i31',\n",
       " '_i32',\n",
       " '_i33',\n",
       " '_i34',\n",
       " '_i35',\n",
       " '_i36',\n",
       " '_i37',\n",
       " '_i38',\n",
       " '_i39',\n",
       " '_i4',\n",
       " '_i40',\n",
       " '_i41',\n",
       " '_i42',\n",
       " '_i43',\n",
       " '_i44',\n",
       " '_i45',\n",
       " '_i46',\n",
       " '_i5',\n",
       " '_i6',\n",
       " '_i7',\n",
       " '_i8',\n",
       " '_i9',\n",
       " '_ih',\n",
       " '_ii',\n",
       " '_iii',\n",
       " '_oh',\n",
       " '_sh',\n",
       " 'b',\n",
       " 'exit',\n",
       " 'func',\n",
       " 'get_ipython',\n",
       " 'i',\n",
       " 'maximum',\n",
       " 'print_max',\n",
       " 'quit',\n",
       " 's',\n",
       " 'say',\n",
       " 'say_hello',\n",
       " 'some_function',\n",
       " 'sq',\n",
       " 'sys',\n",
       " 'total',\n",
       " 'x']"
      ]
     },
     "execution_count": 46,
     "metadata": {},
     "output_type": "execute_result"
    }
   ],
   "source": [
    "del a\n",
    "dir() #now see 'a' not listed in the output"
   ]
  },
  {
   "cell_type": "code",
   "execution_count": 47,
   "metadata": {
    "collapsed": false
   },
   "outputs": [
    {
     "data": {
      "text/plain": [
       "['__add__',\n",
       " '__class__',\n",
       " '__contains__',\n",
       " '__delattr__',\n",
       " '__doc__',\n",
       " '__eq__',\n",
       " '__format__',\n",
       " '__ge__',\n",
       " '__getattribute__',\n",
       " '__getitem__',\n",
       " '__getnewargs__',\n",
       " '__getslice__',\n",
       " '__gt__',\n",
       " '__hash__',\n",
       " '__init__',\n",
       " '__le__',\n",
       " '__len__',\n",
       " '__lt__',\n",
       " '__mod__',\n",
       " '__mul__',\n",
       " '__ne__',\n",
       " '__new__',\n",
       " '__reduce__',\n",
       " '__reduce_ex__',\n",
       " '__repr__',\n",
       " '__rmod__',\n",
       " '__rmul__',\n",
       " '__setattr__',\n",
       " '__sizeof__',\n",
       " '__str__',\n",
       " '__subclasshook__',\n",
       " '_formatter_field_name_split',\n",
       " '_formatter_parser',\n",
       " 'capitalize',\n",
       " 'center',\n",
       " 'count',\n",
       " 'decode',\n",
       " 'encode',\n",
       " 'endswith',\n",
       " 'expandtabs',\n",
       " 'find',\n",
       " 'format',\n",
       " 'index',\n",
       " 'isalnum',\n",
       " 'isalpha',\n",
       " 'isdigit',\n",
       " 'islower',\n",
       " 'isspace',\n",
       " 'istitle',\n",
       " 'isupper',\n",
       " 'join',\n",
       " 'ljust',\n",
       " 'lower',\n",
       " 'lstrip',\n",
       " 'partition',\n",
       " 'replace',\n",
       " 'rfind',\n",
       " 'rindex',\n",
       " 'rjust',\n",
       " 'rpartition',\n",
       " 'rsplit',\n",
       " 'rstrip',\n",
       " 'split',\n",
       " 'splitlines',\n",
       " 'startswith',\n",
       " 'strip',\n",
       " 'swapcase',\n",
       " 'title',\n",
       " 'translate',\n",
       " 'upper',\n",
       " 'zfill']"
      ]
     },
     "execution_count": 47,
     "metadata": {},
     "output_type": "execute_result"
    }
   ],
   "source": [
    "dir(str)"
   ]
  },
  {
   "cell_type": "code",
   "execution_count": 21,
   "metadata": {
    "collapsed": false
   },
   "outputs": [
    {
     "name": "stdout",
     "output_type": "stream",
     "text": [
      "I have 4 items to purchase\n",
      "\n",
      "The items I need to purchase are: \n",
      "apple mango carrot banana \n",
      "\n",
      "The modified list of items: \n",
      "apple mango carrot banana rice \n",
      "\n",
      " The sorted shopping list\n",
      "apple banana carrot mango rice \n",
      "\n",
      "The first item I will buy is apple\n",
      "banana carrot mango rice\n"
     ]
    }
   ],
   "source": [
    "#Data Structures - Gets more interesting now :)\n",
    "\n",
    "#Lists - List are enclosed in the square bracket []\n",
    "shoplist = ['apple', 'mango', 'carrot', 'banana']\n",
    "print 'I have {} items to purchase'.format(len(shoplist))\n",
    "print '\\nThe items I need to purchase are: '\n",
    "for item in shoplist:\n",
    "    print item,\n",
    "    \n",
    "#Appending the item rice\n",
    "shoplist.append('rice')\n",
    "print '\\n\\nThe modified list of items: '\n",
    "for item in shoplist:\n",
    "    print item,\n",
    "    \n",
    "shoplist.sort()\n",
    "print '\\n\\n The sorted shopping list'\n",
    "for item in shoplist:\n",
    "    print item,\n",
    "    \n",
    "print '\\n\\nThe first item I will buy is', shoplist[0]\n",
    "del shoplist[0]\n",
    "for item in shoplist:\n",
    "    print item,"
   ]
  },
  {
   "cell_type": "code",
   "execution_count": 22,
   "metadata": {
    "collapsed": true
   },
   "outputs": [],
   "source": [
    "#Understanding iterables and iterators - Look into it only if you are interested\n",
    "# http://www.shutupandship.com/2012/01/understanding-python-iterables-and.html"
   ]
  },
  {
   "cell_type": "code",
   "execution_count": 30,
   "metadata": {
    "collapsed": false,
    "scrolled": true
   },
   "outputs": [
    {
     "name": "stdout",
     "output_type": "stream",
     "text": [
      "Number of animals in the zoo is 3\n",
      "Number of animals in the zoo is 3\n",
      "All the animals in the new zoo are ('monkey', 'camel', ('python', 'elephant', 'penguin'))\n",
      "All the animals brought from old zoo are ('python', 'elephant', 'penguin')\n",
      "Last animal brought from the old zoo are penguin\n",
      "Number of animals in the new zoo is 5\n"
     ]
    }
   ],
   "source": [
    "#Tuple\n",
    "\n",
    "#Tuples are used to hold together multiple objects. Think of them similar to list\n",
    "#but without the extensive functionality that the list class gives. One major \n",
    "#feature of tuples is that they are immutable like strings i.e., you cannot \n",
    "#modify tuples\n",
    "\n",
    "zoo = ('python', 'elephant', 'penguin')\n",
    "print 'Number of animals in the zoo is', len(zoo)\n",
    "\n",
    "new_zoo = 'monkey', 'camel', zoo\n",
    "print 'Number of animals in the zoo is', len(new_zoo)\n",
    "\n",
    "print 'All the animals in the new zoo are', new_zoo\n",
    "print 'All the animals brought from old zoo are', new_zoo[2]\n",
    "print 'Last animal brought from the old zoo are', new_zoo[2][2]\n",
    "\n",
    "print 'Number of animals in the new zoo is', len(new_zoo)-1+len(new_zoo[2])"
   ]
  },
  {
   "cell_type": "code",
   "execution_count": 37,
   "metadata": {
    "collapsed": false
   },
   "outputs": [
    {
     "name": "stdout",
     "output_type": "stream",
     "text": [
      "()\n",
      "<type 'int'>\n",
      "<type 'tuple'>\n"
     ]
    }
   ],
   "source": [
    "#Empty tuple\n",
    "myempty = ()\n",
    "print myempty\n",
    "\n",
    "singleton = (1)\n",
    "print type(singleton)\n",
    "\n",
    "singleton = (1,)\n",
    "print type(singleton)"
   ]
  },
  {
   "cell_type": "code",
   "execution_count": 49,
   "metadata": {
    "collapsed": false
   },
   "outputs": [
    {
     "name": "stdout",
     "output_type": "stream",
     "text": [
      "<type 'dict'>\n",
      "Nrupatunga's address is nrupatunga@gmail.com\n",
      "contact Matsumoto at matz@ruby-lang.com\n",
      "contact Larry at larry@wall.org\n",
      "contact Spammer at spammer@hotmail.com\n",
      "contact nrupatunga at nrupatunga@gmail.com\n",
      "\n",
      "\n",
      "\n",
      "contact Matsumoto at matz@ruby-lang.com\n",
      "contact Larry at larry@wall.org\n",
      "contact nrupatunga at nrupatunga@gmail.com\n"
     ]
    }
   ],
   "source": [
    "#Dictionary\n",
    "\n",
    "#A dictionary is like a address book, you can find the address or contact \n",
    "#details of a person by knowing only his/her name i.e., we associate keys with\n",
    "#values. \n",
    "\n",
    "#Note that key must be unique just like we cannot find out the correct \n",
    "#information if you have two persons with exact same name\n",
    "\n",
    "ab = {'nrupatunga': 'nrupatunga@gmail.com', \n",
    "        'Larry': 'larry@wall.org', \n",
    "        'Matsumoto': 'matz@ruby-lang.com', \n",
    "         'Spammer': 'spammer@hotmail.com'}\n",
    "print type(ab)\n",
    "\n",
    "print \"Nrupatunga's address is\", ab['nrupatunga']\n",
    "for name, address in ab.iteritems():#itemitems are the efficient implementation of method items()\n",
    "    print 'contact {} at {}'.format(name, address)\n",
    "    \n",
    "del ab['Spammer']\n",
    "\n",
    "print '\\n\\n'\n",
    "\n",
    "for name, address in ab.iteritems():\n",
    "    print 'contact {} at {}'.format(name, address)\n",
    "\n",
    "    "
   ]
  },
  {
   "cell_type": "code",
   "execution_count": 1,
   "metadata": {
    "collapsed": false
   },
   "outputs": [
    {
     "name": "stdout",
     "output_type": "stream",
     "text": [
      "item 0 is apple\n",
      "item -1 is banana\n",
      "item -2 is carrot\n",
      "item start to end ['apple', 'mango', 'carrot']\n",
      "item start to end ['apple', 'mango', 'carrot', 'banana']\n",
      "nrupatunga\n",
      "nrupa\n"
     ]
    }
   ],
   "source": [
    "#Sequence\n",
    "#Lists, tuples and strings are examples of sequences, but what are sequences\n",
    "# and what's special about them\n",
    "\n",
    "#The major features are membership tests, i.e., the 'in' and 'not in' \n",
    "# expressions and the indexing operations, which allows us to retrieve a slice \n",
    "# of sequence i.e., a part of the sequence\n",
    "\n",
    "shoplist = ['apple', 'mango', 'carrot', 'banana']\n",
    "name = 'nrupatunga'\n",
    "\n",
    "print 'item 0 is', shoplist[0]\n",
    "print 'item -1 is', shoplist[-1] \n",
    "print 'item -2 is', shoplist[-2]\n",
    "\n",
    "print 'item start to end', shoplist[0:-1]\n",
    "print 'item start to end', shoplist[:]\n",
    "\n",
    "print name[0:]\n",
    "print name[0:5]"
   ]
  },
  {
   "cell_type": "code",
   "execution_count": 73,
   "metadata": {
    "collapsed": false
   },
   "outputs": [
    {
     "data": {
      "text/plain": [
       "['banana', 'mango']"
      ]
     },
     "execution_count": 73,
     "metadata": {},
     "output_type": "execute_result"
    }
   ],
   "source": [
    "#We can also provide a third argument for the slice which is the step for the \n",
    "#slicing \n",
    "\n",
    "shoplist = ['apple', 'mango', 'carrot', 'banana']\n",
    "shoplist[::-2]"
   ]
  },
  {
   "cell_type": "code",
   "execution_count": 80,
   "metadata": {
    "collapsed": false
   },
   "outputs": [
    {
     "name": "stdout",
     "output_type": "stream",
     "text": [
      "True\n",
      "False\n",
      "True\n"
     ]
    },
    {
     "data": {
      "text/plain": [
       "{'brazil', 'india'}"
      ]
     },
     "execution_count": 80,
     "metadata": {},
     "output_type": "execute_result"
    }
   ],
   "source": [
    "#Set\n",
    "\n",
    "#Sets are unordered collections of simple objects. These are used when the \n",
    "#existence of an object in a collection is more important than the order or how \n",
    "#many times it occurs\n",
    "\n",
    "bri = set(['brazil', 'russia', 'india'])\n",
    "\n",
    "print 'india' in bri\n",
    "print 'usa' in bri\n",
    "bric = bri.copy()\n",
    "bric.add('china')\n",
    "print bric.issuperset(bri)\n",
    "bri.remove('russia')\n",
    "bri & bric"
   ]
  },
  {
   "cell_type": "code",
   "execution_count": 85,
   "metadata": {
    "collapsed": false
   },
   "outputs": [
    {
     "name": "stdout",
     "output_type": "stream",
     "text": [
      "Simple assignment\n",
      "['mango', 'carrot', 'banana']\n",
      "['mango', 'carrot', 'banana']\n",
      "['carrot', 'banana']\n",
      "['mango', 'carrot', 'banana']\n"
     ]
    }
   ],
   "source": [
    "#References\n",
    "\n",
    "print 'Simple assignment'\n",
    "shoplist = ['apple', 'mango', 'carrot', 'banana']\n",
    "mylist = shoplist #points to the same object\n",
    "\n",
    "del shoplist[0]\n",
    "print shoplist\n",
    "print mylist\n",
    "\n",
    "mylist = shoplist[:] #slicing create a new object type mylist of type list\n",
    "\n",
    "del shoplist[0]\n",
    "print shoplist\n",
    "print mylist"
   ]
  },
  {
   "cell_type": "code",
   "execution_count": 99,
   "metadata": {
    "collapsed": false,
    "scrolled": true
   },
   "outputs": [
    {
     "name": "stdout",
     "output_type": "stream",
     "text": [
      "yes it starts with \"Nrup\"\n",
      "yes, it contains the string \"a\"\n",
      "Yes it contains the word \"tunga\"\n",
      "Andrew YaanLecun Yoshua\n"
     ]
    }
   ],
   "source": [
    "#More about strings\n",
    "\n",
    "#Strings are also objects and have methods which do everything from checking \n",
    "#part of a string to stripping string\n",
    "\n",
    "#The strings which we use in the program are all objects of the class 'str'\n",
    "\n",
    "name = 'Nrupatunga'\n",
    "if name.startswith('Nrup'):\n",
    "    print 'yes it starts with \"Nrup\"'\n",
    "\n",
    "if 'a' in name:\n",
    "    print 'yes, it contains the string \"a\"'\n",
    "\n",
    "if name.find('tunga') != -1:\n",
    "    print 'Yes it contains the word \"tunga\"'\n",
    "    \n",
    "mylist = ['Andrew', 'YaanLecun', 'Yoshua']\n",
    "delimiter = ' ' #Note how this works, it nice know!\n",
    "print delimiter.join(mylist)"
   ]
  },
  {
   "cell_type": "code",
   "execution_count": null,
   "metadata": {
    "collapsed": true
   },
   "outputs": [],
   "source": [
    "#Continued in Part-2"
   ]
  }
 ],
 "metadata": {
  "kernelspec": {
   "display_name": "Python 2",
   "language": "python",
   "name": "python2"
  },
  "language_info": {
   "codemirror_mode": {
    "name": "ipython",
    "version": 2
   },
   "file_extension": ".py",
   "mimetype": "text/x-python",
   "name": "python",
   "nbconvert_exporter": "python",
   "pygments_lexer": "ipython2",
   "version": "2.7.11"
  }
 },
 "nbformat": 4,
 "nbformat_minor": 0
}
